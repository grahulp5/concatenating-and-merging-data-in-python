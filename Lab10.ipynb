{
 "cells": [
  {
   "cell_type": "markdown",
   "metadata": {},
   "source": [
    "# Reading from Different Types of Data Sources"
   ]
  },
  {
   "cell_type": "markdown",
   "metadata": {},
   "source": [
    "Complete the tasks listed below. You can submit the completed lab until 11:59 PM in the night."
   ]
  },
  {
   "cell_type": "markdown",
   "metadata": {},
   "source": [
    "<u>Requirement:</u><br>\n",
    "Do your best to write Pythonic code instead of the traditional programming code."
   ]
  },
  {
   "cell_type": "markdown",
   "metadata": {},
   "source": [
    "<u>Hint:</u><br>\n",
    "For different tasks, you would need different methods to read in your data."
   ]
  },
  {
   "cell_type": "markdown",
   "metadata": {},
   "source": [
    "### Task 1 (1 mark)\n",
    "\n",
    "Read the file __file1.txt__ using both __read_csv__ and __read_table__. There are actually two ways of reading it via __read_csv__. Explain the differences you observed while reading the file via these two methods."
   ]
  },
  {
   "cell_type": "code",
   "execution_count": 1,
   "metadata": {},
   "outputs": [],
   "source": [
    "### Write your code below this comment."
   ]
  },
  {
   "cell_type": "markdown",
   "metadata": {},
   "source": [
    "#### Explain the differences in the cell below:"
   ]
  },
  {
   "cell_type": "markdown",
   "metadata": {},
   "source": [
    "What I observed is ..."
   ]
  },
  {
   "cell_type": "markdown",
   "metadata": {},
   "source": [
    "### Task 2 (3 marks)\n",
    "\n",
    "The __wine__ data has been downloaded from the data repository at the University of California Irvine. Read the data from the file __wine.data__ while reading column names and class information from __wine.names__ programmatically (the class attribute is the first column). You can use either __read_csv__ or __read_table__ to read the data. And you can save the class attribute as a column named __'class'__."
   ]
  },
  {
   "cell_type": "code",
   "execution_count": 2,
   "metadata": {},
   "outputs": [],
   "source": [
    "### Write your code below this comment."
   ]
  },
  {
   "cell_type": "markdown",
   "metadata": {},
   "source": [
    "### Task 3 (2 marks)\n",
    "\n",
    "Make a dictionary for your data such that the columns come from Task 2 above while data comes from __wine.data__. Each column should be a key in your dictionary while the data for that column from __wine.data__ should appear as a tuple of values."
   ]
  },
  {
   "cell_type": "code",
   "execution_count": 3,
   "metadata": {},
   "outputs": [],
   "source": [
    "### Write your code below this comment."
   ]
  },
  {
   "cell_type": "markdown",
   "metadata": {},
   "source": [
    "### Task 4 (2 mark)\n",
    "\n",
    "Convert your data dictionary from Task 3 above to JSON. Then save it as a Dataframe named __data_df__ and print it back as JSON such that the rows in the Dataframe correspond with the JSON output."
   ]
  },
  {
   "cell_type": "code",
   "execution_count": 4,
   "metadata": {},
   "outputs": [],
   "source": [
    "### Write your code below this comment."
   ]
  },
  {
   "cell_type": "markdown",
   "metadata": {},
   "source": [
    "### Task 5 (2 marks)\n",
    "\n",
    "Get sheet names from the file __'ccrb_datatransparencyinitiative_20170207.xlsx'__ programmatically. Then <u>read only 5 rows</u> into a Dataframe named __df_xlsx__.\n",
    "\n",
    "Once you are done with that, read the entire data into __df_xlsx2__ and save it as a CSV file named __xlsx.csv__. Now read back the saved CSV file such that it is now read in split sizes of 10000 rows per Dataframe. Get the counts for the unique values of __'Borough of Occurrence'__ column from each split and aggregate the counts. Now get the same counts from the entire Dataframe __df_xlsx2__ and verify that the top 5 counts are the same in both the cases."
   ]
  },
  {
   "cell_type": "code",
   "execution_count": 5,
   "metadata": {},
   "outputs": [],
   "source": [
    "### Write your code below this comment."
   ]
  }
 ],
 "metadata": {
  "kernelspec": {
   "display_name": "Python 3",
   "language": "python",
   "name": "python3"
  },
  "language_info": {
   "codemirror_mode": {
    "name": "ipython",
    "version": 3
   },
   "file_extension": ".py",
   "mimetype": "text/x-python",
   "name": "python",
   "nbconvert_exporter": "python",
   "pygments_lexer": "ipython3",
   "version": "3.8.3"
  }
 },
 "nbformat": 4,
 "nbformat_minor": 1
}
